{
 "cells": [
  {
   "cell_type": "code",
   "execution_count": 4,
   "metadata": {},
   "outputs": [
    {
     "name": "stdout",
     "output_type": "stream",
     "text": [
      "Successfully imported\n"
     ]
    }
   ],
   "source": [
    "from tkinter import *\n",
    "from PIL import ImageTk, Image\n",
    "from tkinter import ttk\n",
    "from matplotlib.pyplot import style\n",
    "import matplotlib.pyplot as plt\n",
    "import numpy as np\n",
    "import requests\n",
    "print(\"Successfully imported\")"
   ]
  },
  {
   "cell_type": "code",
   "execution_count": 2,
   "metadata": {},
   "outputs": [],
   "source": [
    "root = Tk()\n",
    "root.title('Dropbox Digital Crypto Dashboard')\n",
    "root.iconbitmap('logo.ico')\n",
    "root.geometry(\"500x500\")\n",
    "root.mainloop()"
   ]
  },
  {
   "cell_type": "code",
   "execution_count": null,
   "metadata": {},
   "outputs": [],
   "source": [
    "# define columns\n",
    "my_tree = ttk.Treeview(root)\n",
    "my_tree['columns'] = (\"Coin\", \"Price in USD\", \"Price in EUR\",\n",
    "                      \"Price in JPY\", \"Price in AUD\", \"Price in CAD\")\n",
    "\n",
    "# formate columns\n",
    "my_tree.column(\"#0\", width=120, minwidth=25)\n",
    "my_tree.column()\n"
   ]
  },
  {
   "cell_type": "code",
   "execution_count": null,
   "metadata": {},
   "outputs": [],
   "source": [
    "tree = ttk.Treeview(win, column=(\"Currecy\", \"Value\"), show='headings', height=5)\n",
    "tree.column(\"# 1\", anchor=CENTER)\n",
    "tree.heading(\"# 1\", text=\"Country\")\n",
    "tree.column(\"# 2\", anchor=CENTER)\n",
    "tree.heading(\"# 2\", text=\"Value\")\n",
    "json_object = json.loads(response1.text)\n",
    "for key in json_object:\n",
    "    tree.insert('', 'end', text=\"1\", values=(key, json_object[key]))\n",
    "tree.pack()\n"
   ]
  },
  {
   "cell_type": "code",
   "execution_count": null,
   "metadata": {},
   "outputs": [
    {
     "ename": "Error",
     "evalue": "Session cannot generate requests",
     "output_type": "error",
     "traceback": [
      "Error: Session cannot generate requests",
      "at S.executeCodeCell (c:\\Users\\USER\\.vscode\\extensions\\ms-toolsai.jupyter-2021.10.1101450599\\out\\client\\extension.js:66:301742)",
      "at S.execute (c:\\Users\\USER\\.vscode\\extensions\\ms-toolsai.jupyter-2021.10.1101450599\\out\\client\\extension.js:66:300732)",
      "at S.start (c:\\Users\\USER\\.vscode\\extensions\\ms-toolsai.jupyter-2021.10.1101450599\\out\\client\\extension.js:66:296408)",
      "at runMicrotasks (<anonymous>)",
      "at processTicksAndRejections (internal/process/task_queues.js:93:5)",
      "at async t.CellExecutionQueue.executeQueuedCells (c:\\Users\\USER\\.vscode\\extensions\\ms-toolsai.jupyter-2021.10.1101450599\\out\\client\\extension.js:66:312326)",
      "at async t.CellExecutionQueue.start (c:\\Users\\USER\\.vscode\\extensions\\ms-toolsai.jupyter-2021.10.1101450599\\out\\client\\extension.js:66:311862)"
     ]
    }
   ],
   "source": [
    "from tkinter import *\n",
    "from PIL import ImageTk, Image\n",
    "from tkinter import ttk\n",
    "\n",
    "root = Tk()\n",
    "root.title('Dropbox Digital Crypto Dashboard')\n",
    "root.iconbitmap('logo.ico')\n",
    "root.geometry(\"500x500\")\n",
    "\n",
    "my_tree = ttk.Treeview(root)\n",
    "my_tree['columns'] = (\"Coin\", \"Price in USD\", \"Price in EUR\",\n",
    "                      \"Price in JPY\", \"Price in AUD\", \"Price in CAD\")\n",
    "my_tree.column(\"#0\", width=0, stretch=NO)\n",
    "my_tree.column(\"Coin\", anchor=W, width=100)\n",
    "my_tree.column(\"Price in USD\", anchor=W, width=100)\n",
    "my_tree.column(\"Price in EUR\", anchor=W, width=100)\n",
    "my_tree.column(\"Price in JPY\", anchor=W, width=100)\n",
    "my_tree.column(\"Price in AUD\", anchor=W, width=100)\n",
    "my_tree.column(\"Price in CAD\", anchor=W, width=100)\n",
    "\n",
    "\n",
    "# Create Headings \n",
    "my_tree.heading(\"Coin\", text=\"Coin\", anchor=W)\n",
    "my_tree.heading(\"Price in USD\", text=\"Price in USD\", anchor=W)\n",
    "my_tree.heading(\"Price in EUR\", text=\"Price in EUR\", anchor=W)\n",
    "my_tree.heading(\"Price in JPY\", text=\"Price in JPY\", anchor=W)\n",
    "my_tree.heading(\"Price in AUD\", text=\"Price in AUD\", anchor=W)\n",
    "my_tree.heading(\"Price in CAD\", text=\"Price in CAD\", anchor=W)\n",
    "\n",
    "\n",
    "\n",
    "my_tree.pack(pady=20)\n",
    "root.mainloop()\n"
   ]
  },
  {
   "cell_type": "code",
   "execution_count": null,
   "metadata": {},
   "outputs": [],
   "source": []
  }
 ],
 "metadata": {
  "interpreter": {
   "hash": "42588fd11209419b7c81abe23e31a1d2101f60811b02170c268e57ebb57d5d9a"
  },
  "kernelspec": {
   "display_name": "Python 3.8.8 64-bit ('base': conda)",
   "language": "python",
   "name": "python3"
  },
  "language_info": {
   "codemirror_mode": {
    "name": "ipython",
    "version": 3
   },
   "file_extension": ".py",
   "mimetype": "text/x-python",
   "name": "python",
   "nbconvert_exporter": "python",
   "pygments_lexer": "ipython3",
   "version": "3.8.8"
  },
  "orig_nbformat": 4
 },
 "nbformat": 4,
 "nbformat_minor": 2
}
