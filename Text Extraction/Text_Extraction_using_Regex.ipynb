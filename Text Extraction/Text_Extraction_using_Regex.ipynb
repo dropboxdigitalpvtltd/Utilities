{
 "cells": [
  {
   "cell_type": "code",
   "execution_count": 1,
   "metadata": {},
   "outputs": [],
   "source": [
    "from typing import Pattern\n",
    "import re\n",
    "import time\n"
   ]
  },
  {
   "cell_type": "code",
   "execution_count": 2,
   "metadata": {},
   "outputs": [],
   "source": [
    "def str_to_tup(string):\n",
    "    minutes = string[:string.find(':')]\n",
    "    seconds = string[string.find(':')+1:]\n",
    "    return int(minutes), int(seconds)\n",
    "\n",
    "\n",
    "def seconds(list_minutes, list_seconds):\n",
    "    minutes = sum(list_minutes) * 60\n",
    "    seconds = sum(list_seconds) + minutes\n",
    "    return seconds\n"
   ]
  },
  {
   "cell_type": "code",
   "execution_count": 7,
   "metadata": {},
   "outputs": [
    {
     "name": "stdout",
     "output_type": "stream",
     "text": [
      "Total time \t:: 05 Hours, 13 Minutes and 45 Seconds\n",
      "Videos \t\t:: 17\n",
      "price\t\t:: 16$\n",
      "\n",
      "\n",
      "Course Curriculum\n",
      "\n",
      "Introduction\n",
      " PreviewLecture 1 - Course Overview (5:18)\n",
      " StartLecture 2 - Setting up Elasticsearch and Kibana (10:05)\n",
      " StartInstructions for Windows Users\n",
      " StartLecture 3 - Overview of Elasticsearch (19:26)\n",
      "Document Management and Analyzers\n",
      " StartLecture 4 - Indexing, Retrieving and Deleting Documents (25:55)\n",
      " StartLecture 5 - Components of an Index (12:20)\n",
      " StartLecture 6 - Distributed Execution of Requests (25:33)\n",
      " StartLecture 7 - Text Analysis for Indexing and Searching (15:09)\n",
      "Defining the Index Structure\n",
      " StartLecture 8 - Index Settings and Mappings (Part 1) (24:51)\n",
      " StartLecture 9: Index Settings and Mappings (Part 2) (17:00)\n",
      "Querying Elasticsearch\n",
      " StartFollow these instructions before watching Lecture 10\n",
      " StartLesson 10 - Query DSL (Using the Query Context) (19:40)\n",
      " StartLesson 11 - Query DSL (Continuing the Query Component) (25:27)\n",
      " StartLesson 12 - Query DSL (Filter Context) (23:33)\n",
      " StartFollow these instructions before Lecture 13.\n",
      " StartLesson 13 - Aggregations DSL (19:47)\n",
      " StartLesson 14 - Aggregations DSL (Part 2) (16:15)\n",
      "Real-world Project with Logstash and Kibana\n",
      " StartLecture 15 - Download and Configure Logstash (19:53)\n",
      " StartLecture 16 - Logstash Job with Real-time Data Visualization in Kibana (18:00)\n",
      " StartLecture 17 - More on Data Visualizations in Kibana (15:33\n",
      "done\n"
     ]
    }
   ],
   "source": [
    "url = r'text\\05 Elasticsearch.txt'\n",
    "with open(url, 'r') as file_handle:\n",
    "    text = file_handle.read()\n",
    "    print(text)\n",
    "\n",
    "file_handle.close()\n",
    "print('done')"
   ]
  },
  {
   "cell_type": "code",
   "execution_count": 29,
   "metadata": {},
   "outputs": [
    {
     "name": "stdout",
     "output_type": "stream",
     "text": [
      "1) <re.Match object; span=(69, 73), match='5:18'>\n",
      "2) <re.Match object; span=(130, 135), match='10:05'>\n",
      "3) <re.Match object; span=(219, 224), match='19:26'>\n",
      "4) <re.Match object; span=(323, 328), match='25:55'>\n",
      "5) <re.Match object; span=(372, 377), match='12:20'>\n",
      "6) <re.Match object; span=(432, 437), match='25:33'>\n",
      "7) <re.Match object; span=(499, 504), match='15:09'>\n",
      "8) <re.Match object; span=(591, 596), match='24:51'>\n",
      "9) <re.Match object; span=(653, 658), match='17:00'>\n",
      "10) <re.Match object; span=(797, 802), match='19:40'>\n",
      "11) <re.Match object; span=(866, 871), match='25:27'>\n",
      "12) <re.Match object; span=(919, 924), match='23:33'>\n",
      "13) <re.Match object; span=(1013, 1018), match='19:47'>\n",
      "14) <re.Match object; span=(1065, 1070), match='16:15'>\n",
      "15) <re.Match object; span=(1168, 1173), match='19:53'>\n",
      "16) <re.Match object; span=(1252, 1257), match='18:00'>\n",
      "17) <re.Match object; span=(1317, 1322), match='15:33'>\n"
     ]
    }
   ],
   "source": [
    "pattern = re.compile(r'\\d{1,2}.\\d{1,2}')\n",
    "matches = pattern.finditer(text)\n",
    "count = 0\n",
    "\n",
    "for match in matches:\n",
    "    count += 1\n",
    "    print(f'{count}) {match}')\n"
   ]
  },
  {
   "cell_type": "code",
   "execution_count": 30,
   "metadata": {},
   "outputs": [
    {
     "data": {
      "text/plain": [
       "'Total time is 05 Hours, 13 Minutes and 45 Seconds'"
      ]
     },
     "execution_count": 30,
     "metadata": {},
     "output_type": "execute_result"
    }
   ],
   "source": [
    "list_minutes = list()\n",
    "list_seconds = list()\n",
    "for item in pattern.findall(text):\n",
    "\n",
    "    a, b = str_to_tup(item)\n",
    "    list_minutes.append(a)\n",
    "    list_seconds.append(b)\n",
    "\n",
    "s = seconds(list_minutes,list_seconds)\n",
    "time.strftime(\"Total time is %H Hours, %M Minutes and %S Seconds\", time.gmtime(s))"
   ]
  },
  {
   "cell_type": "markdown",
   "metadata": {},
   "source": []
  },
  {
   "cell_type": "code",
   "execution_count": null,
   "metadata": {},
   "outputs": [],
   "source": []
  }
 ],
 "metadata": {
  "interpreter": {
   "hash": "1109b43439f3429545ef6395318da9b6604ff76d402cf666253a030238124a37"
  },
  "kernelspec": {
   "display_name": "Python 3.10.0 64-bit",
   "language": "python",
   "name": "python3"
  },
  "language_info": {
   "codemirror_mode": {
    "name": "ipython",
    "version": 3
   },
   "file_extension": ".py",
   "mimetype": "text/x-python",
   "name": "python",
   "nbconvert_exporter": "python",
   "pygments_lexer": "ipython3",
   "version": "3.8.8"
  },
  "orig_nbformat": 4
 },
 "nbformat": 4,
 "nbformat_minor": 2
}
